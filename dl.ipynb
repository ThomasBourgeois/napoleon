{
  "cells": [
    {
      "cell_type": "markdown",
      "metadata": {
        "id": "xrZiEpt5I3Xw"
      },
      "source": [
        "## Import libraries 📚"
      ]
    },
    {
      "cell_type": "code",
      "source": [
        "from google.colab import drive\n",
        "drive.mount('/drive')"
      ],
      "metadata": {
        "colab": {
          "base_uri": "https://localhost:8080/"
        },
        "id": "nE5YLIiUgP_R",
        "outputId": "db867f4e-6e8f-4cc4-ebed-f8fafcfbeea5"
      },
      "execution_count": 1,
      "outputs": [
        {
          "output_type": "stream",
          "name": "stdout",
          "text": [
            "Mounted at /drive\n"
          ]
        }
      ]
    },
    {
      "cell_type": "code",
      "execution_count": 3,
      "metadata": {
        "colab": {
          "base_uri": "https://localhost:8080/"
        },
        "id": "l6QyFtHjI3Xx",
        "outputId": "8f6b343d-3823-4a0a-dfda-25dc45b977cb"
      },
      "outputs": [
        {
          "output_type": "stream",
          "name": "stdout",
          "text": [
            "\u001b[33mWARNING: Ignoring invalid distribution -orch (/usr/local/lib/python3.7/dist-packages)\u001b[0m\n",
            "\u001b[33mWARNING: Ignoring invalid distribution -orch (/usr/local/lib/python3.7/dist-packages)\u001b[0m\n",
            "\u001b[33mWARNING: Ignoring invalid distribution -orch (/usr/local/lib/python3.7/dist-packages)\u001b[0m\n",
            "\u001b[33m    WARNING: Ignoring invalid distribution -orch (/usr/local/lib/python3.7/dist-packages)\u001b[0m\n",
            "\u001b[33mWARNING: Ignoring invalid distribution -orch (/usr/local/lib/python3.7/dist-packages)\u001b[0m\n",
            "\u001b[33mWARNING: Ignoring invalid distribution -orch (/usr/local/lib/python3.7/dist-packages)\u001b[0m\n",
            "\u001b[33mWARNING: Ignoring invalid distribution -orch (/usr/local/lib/python3.7/dist-packages)\u001b[0m\n",
            "\u001b[33mWARNING: Ignoring invalid distribution -orch (/usr/local/lib/python3.7/dist-packages)\u001b[0m\n",
            "\u001b[31mERROR: pip's dependency resolver does not currently take into account all the packages that are installed. This behaviour is the source of the following dependency conflicts.\n",
            "torchtext 0.13.0 requires torch==1.12.0, but you have torch 1.11.0 which is incompatible.\n",
            "torchaudio 0.12.0+cu113 requires torch==1.12.0, but you have torch 1.11.0 which is incompatible.\u001b[0m\n"
          ]
        }
      ],
      "source": [
        "# # **************** UNCOMMENT AND RUN THIS CELL IF YOU NEED TO INSTALL/ UPGRADE TSAI ****************\n",
        "stable = True # Set to True for latest pip version or False for main branch in GitHub\n",
        "!pip install {\"tsai -U\" if stable else \"git+https://github.com/timeseriesAI/tsai.git\"} >> /dev/null"
      ]
    },
    {
      "cell_type": "code",
      "execution_count": 4,
      "metadata": {
        "colab": {
          "base_uri": "https://localhost:8080/"
        },
        "id": "lik5RCoUI3YM",
        "outputId": "8418d375-31de-4c36-ad30-a11d09d5d043"
      },
      "outputs": [
        {
          "output_type": "stream",
          "name": "stdout",
          "text": [
            "os             : Linux-5.4.188+-x86_64-with-Ubuntu-18.04-bionic\n",
            "python         : 3.7.13\n",
            "tsai           : 0.3.1\n",
            "fastai         : 2.7.6\n",
            "fastcore       : 1.4.5\n",
            "torch          : 1.11.0+cu102\n",
            "device         : 1 gpu (['Tesla T4'])\n",
            "cpu cores      : 2\n",
            "RAM            : 12.68 GB\n",
            "GPU memory     : [14.75] GB\n"
          ]
        }
      ],
      "source": [
        "from tsai.all import *\n",
        "my_setup()"
      ]
    },
    {
      "cell_type": "code",
      "source": [
        "def random_seed(seed_value, use_cuda):\n",
        "    np.random.seed(seed_value) # cpu vars\n",
        "    torch.manual_seed(seed_value) # cpu  vars\n",
        "    random.seed(seed_value) # Python\n",
        "    if use_cuda: \n",
        "        torch.cuda.manual_seed(seed_value)\n",
        "        torch.cuda.manual_seed_all(seed_value) # gpu vars\n",
        "        torch.backends.cudnn.deterministic = True  #needed\n",
        "        torch.backends.cudnn.benchmark = False\n"
      ],
      "metadata": {
        "id": "8tUmTRvDVhsj"
      },
      "execution_count": 5,
      "outputs": []
    },
    {
      "cell_type": "markdown",
      "metadata": {
        "id": "58Mej4CiI3YP"
      },
      "source": [
        "## Prepare data 🔢"
      ]
    },
    {
      "cell_type": "markdown",
      "metadata": {
        "id": "V2bdrYoFI3YR"
      },
      "source": [
        "We are going to select a dataset from the recently released Monash, UEA & UCR \n",
        "Time Series Extrinsic Regression Repository (2020) ([web](http://tseregression.org), [paper](https://arxiv.org/abs/2006.10996)). \n",
        "\n",
        "Please, feel free to select any other dataset to experiment with it. Here's the entire list."
      ]
    },
    {
      "cell_type": "code",
      "execution_count": 6,
      "metadata": {
        "id": "Vh7b-zc8I3YS"
      },
      "outputs": [],
      "source": [
        "import pandas as pd\n",
        "import pickle\n",
        "import sklearn.metrics as skm\n",
        "import numpy as np\n",
        "data_folder = '/drive/My Drive/boulot/napoleon/'\n",
        "x_train = pd.read_csv(data_folder + 'input_train__fppJZ22.csv')\n",
        "y_train = pd.read_csv(data_folder + 'y_train_CGZ7jXu.csv')\n",
        "x_test = pd.read_csv(data_folder + 'input_test__2scdXsn.csv')\n",
        "y_test_rand = pd.read_csv(data_folder + 'y_rand.csv')"
      ]
    },
    {
      "cell_type": "code",
      "source": [
        "x_train.shape, y_train.shape"
      ],
      "metadata": {
        "colab": {
          "base_uri": "https://localhost:8080/"
        },
        "id": "kjOwmQH_MPAb",
        "outputId": "53c48192-1c53-4787-cf83-4610052d0f7d"
      },
      "execution_count": 7,
      "outputs": [
        {
          "output_type": "execute_result",
          "data": {
            "text/plain": [
              "((491038, 29), (30494, 2))"
            ]
          },
          "metadata": {},
          "execution_count": 7
        }
      ]
    },
    {
      "cell_type": "code",
      "execution_count": 8,
      "metadata": {
        "id": "Pg591Q6uPWU3"
      },
      "outputs": [],
      "source": [
        "ret_cols = ['ret_' + str(i) for i in range(1, 24)]\n",
        "def fill_na_x(x):\n",
        "    #print(x.isna().sum().sum() / (x.shape[0] * x.shape[1]))\n",
        "    x_transpose = x.transpose()\n",
        "    x_transpose.loc[ret_cols] = x_transpose.loc[ret_cols].fillna(method='ffill').fillna(method='bfill').fillna(0)\n",
        "    x = x_transpose.transpose()\n",
        "    clusters_bc_median = x.groupby('cluster').bc.median().to_dict()\n",
        "    def fill_na_bc(group):\n",
        "        group['bc'] = group['bc'].fillna(clusters_bc_median[group.name])\n",
        "        return group\n",
        "    x = x.groupby(['cluster']).apply(fill_na_bc).reset_index(drop=True)\n",
        "    assert not x.isna().any(axis=None)\n",
        "    return x\n",
        "\n",
        "x_train = fill_na_x(x_train)\n",
        "x_test = fill_na_x(x_test)"
      ]
    },
    {
      "cell_type": "code",
      "execution_count": 26,
      "metadata": {
        "id": "4Rwq0s_uIks9"
      },
      "outputs": [],
      "source": [
        "n_features = 1\n",
        "def make_X(x, phase):\n",
        "\n",
        "  #x = x.groupby(['cluster', 'day'])[ret_cols].mean()#.quantile([0.05, 0.25, 0.5, 0.75, 0.95])\n",
        "  x1 = x.groupby(['cluster', 'day'])[ret_cols].median()\n",
        "  x1['feat'] = 'median'\n",
        "  #x2 = x.groupby(['cluster', 'day'])[ret_cols].quantile(0.75)\n",
        "  #x2['feat'] = 'q2'\n",
        "  x2 = x1.copy()\n",
        "  x2.reset_index()\n",
        "  x2.sort_values(['cluster', 'day'], inplace=True)\n",
        "  x2 = x2.groupby('cluster').shift(-1).fillna(method='ffill')\n",
        "  x2 = x2.reset_index().set_index(['cluster', 'day'])\n",
        "  x2.columns = ['ret_' + str(-1 * int(c.strip('ret_')) + 24) for c in ret_cols] + ['feat']\n",
        "  print(x1.shape)\n",
        "  print(x2.shape)\n",
        "  x1.loc[:, ret_cols] = (x1[ret_cols] + x2[ret_cols]) / 2 \n",
        "  #x2.feat = 'median_next_rev'\n",
        "  #x2 = x.groupby(['cluster', 'day'])[ret_cols].std()\n",
        "  #x2['feat'] = 'std'\n",
        "  #x3 = pd.DataFrame(dict({c: x.groupby(['cluster', 'day']).bc.mean() for c in ret_cols}, **{'feat': 'bc'}))\n",
        "  x = pd.concat([x1, \n",
        "                 #x2, \n",
        "                 #x3\n",
        "                 ]).sort_index()\n",
        "  x.reset_index(inplace=True)\n",
        "  x.sort_values(['cluster', 'day', 'feat'], inplace=True)\n",
        "  x.drop(columns='feat', inplace=True)\n",
        "  n_samples = x.groupby(['cluster', 'day']).ngroups\n",
        "  x = x[ret_cols].values.reshape((n_samples, n_features, 23))\n",
        "\n",
        "  X = np.memmap(data_folder + 'x_' + phase + '.dat', dtype='float32', mode='w+', shape=(n_samples, n_features, 23))\n",
        "  X[:] = x[:]\n",
        "  return X"
      ]
    },
    {
      "cell_type": "code",
      "execution_count": 27,
      "metadata": {
        "id": "sdoqcVGGqk0i",
        "colab": {
          "base_uri": "https://localhost:8080/"
        },
        "outputId": "d3b305d9-0f1d-47d8-aa66-1f80f02294ad"
      },
      "outputs": [
        {
          "output_type": "stream",
          "name": "stdout",
          "text": [
            "(30494, 24)\n",
            "(30494, 24)\n",
            "(13133, 24)\n",
            "(13133, 24)\n"
          ]
        }
      ],
      "source": [
        "X = make_X(x_train, 'train')\n",
        "X_test = make_X(x_test, 'test')\n",
        "\n",
        "y_train.sort_values('sample_id', inplace=True)\n",
        "y_train = y_train.values[:, 1]\n",
        "y = np.memmap(data_folder + 'y_train.dat', dtype='float32', mode='w+', shape=(30494,))\n",
        "y[:] = y_train[:]\n"
      ]
    },
    {
      "cell_type": "code",
      "execution_count": 28,
      "metadata": {
        "id": "yjsVY3Xwbrd9"
      },
      "outputs": [],
      "source": [
        "splits = (L(range(20000)), L(range(20000, 30494)))"
      ]
    },
    {
      "cell_type": "markdown",
      "metadata": {
        "id": "EbYidEiVI3YU"
      },
      "source": [
        "For regression tasks, we need to ensure y is a float. Let's check the format of the data:"
      ]
    },
    {
      "cell_type": "code",
      "execution_count": 29,
      "metadata": {
        "colab": {
          "base_uri": "https://localhost:8080/",
          "height": 136
        },
        "id": "317CsBMcI3YV",
        "outputId": "7215a72f-4e2a-4c78-e0f8-ffb009880789"
      },
      "outputs": [
        {
          "output_type": "stream",
          "name": "stdout",
          "text": [
            "X      - shape: [30494 samples x 1 features x 23 timesteps]  type: memmap  dtype:float32  isnan: 0\n",
            "y      - shape: (30494,)  type: memmap  dtype:float32  isnan: 0\n",
            "splits - n_splits: 2 shape: [20000, 10494]  overlap: False\n"
          ]
        },
        {
          "output_type": "display_data",
          "data": {
            "text/plain": [
              "<Figure size 1152x36 with 1 Axes>"
            ],
            "image/png": "[encoded data removed]"
          },
          "metadata": {
            "needs_background": "light"
          }
        }
      ],
      "source": [
        "check_data(X, y, splits)"
      ]
    },
    {
      "cell_type": "code",
      "execution_count": 30,
      "metadata": {
        "colab": {
          "base_uri": "https://localhost:8080/"
        },
        "id": "F2U1xQTzI3YW",
        "outputId": "3f80fcd5-4fc7-4436-eea0-191c1dc25122"
      },
      "outputs": [
        {
          "output_type": "execute_result",
          "data": {
            "text/plain": [
              "(TSTensor(samples:128, vars:1, len:23, device=cuda:0, dtype=torch.float32),\n",
              " tensor([-2.2351e-03, -6.6632e-04, -7.7082e-03,  5.1535e-03,  2.4360e-02,\n",
              "          5.2453e-03, -1.8804e-03,  4.1799e-03,  3.8235e-03,  1.2406e-03,\n",
              "         -3.5367e-03,  3.6700e-03, -3.5585e-02, -2.0471e-02, -4.4342e-03,\n",
              "          4.4209e-03,  4.6138e-03,  1.8127e-03,  1.0324e-03, -7.6151e-03,\n",
              "         -2.6217e-03, -3.2038e-02,  1.0245e-03, -8.7004e-03, -9.7573e-03,\n",
              "          1.0637e-03,  4.5965e-03, -2.0463e-03, -3.0168e-03, -2.9536e-03,\n",
              "         -2.0235e-03,  2.7456e-03, -6.5350e-03, -7.2111e-03, -2.3650e-03,\n",
              "          1.8622e-02, -3.1360e-03,  1.6085e-03, -1.1583e-02, -3.0986e-03,\n",
              "         -5.0869e-03,  7.9945e-03, -6.0878e-03,  7.5681e-04,  7.4932e-03,\n",
              "          5.2230e-03,  1.3312e-02, -1.9922e-03,  1.0748e-02, -4.7049e-02,\n",
              "         -3.3784e-03,  1.9156e-02,  2.2033e-03,  2.5035e-02,  1.0986e-02,\n",
              "          2.6685e-02, -8.2891e-03,  1.0165e-02,  1.5189e-02, -3.4331e-03,\n",
              "          1.0576e-02, -4.7927e-03,  6.2603e-03, -7.1931e-02, -9.1099e-03,\n",
              "         -3.5641e-02, -2.1352e-03,  1.1403e-03, -5.9965e-04,  3.4668e-03,\n",
              "         -7.3748e-03,  8.8396e-03,  2.3222e-04,  1.0142e-03, -5.6412e-03,\n",
              "         -6.0216e-03, -3.3353e-03,  3.1772e-03,  6.7575e-03,  1.3153e-02,\n",
              "          5.8909e-03,  2.4162e-03, -1.1498e-04, -4.1408e-03,  8.4679e-05,\n",
              "          3.3084e-03,  6.4561e-03,  1.8397e-02, -1.5977e-02,  9.3532e-04,\n",
              "         -8.4400e-03, -5.5897e-03, -3.8139e-04,  1.0530e-02, -4.3078e-03,\n",
              "          2.7974e-02, -3.1477e-02,  4.3415e-03,  3.5728e-03,  1.1166e-03,\n",
              "         -4.6978e-03,  1.2230e-02,  2.9960e-03, -3.5904e-03,  8.0622e-03,\n",
              "          3.5805e-03,  7.8399e-03,  7.3081e-05, -3.2028e-03, -4.5106e-03,\n",
              "          8.6186e-03, -1.7916e-03,  6.8165e-03,  1.2193e-02, -8.1416e-04,\n",
              "         -8.5076e-03,  1.9214e-02,  3.8913e-03,  7.1553e-03,  3.4434e-03,\n",
              "          3.1647e-03, -1.0450e-02, -2.5098e-03,  6.0317e-03, -3.0049e-04,\n",
              "         -2.2390e-03, -1.2263e-02,  4.8615e-03], device='cuda:0'))"
            ]
          },
          "metadata": {},
          "execution_count": 30
        }
      ],
      "source": [
        "tfms  = [None, [TSRegression()]]\n",
        "batch_tfms = TSStandardize(by_sample=True, by_var=True)\n",
        "dls = get_ts_dls(X, y, splits=splits, tfms=tfms, \n",
        "                 #batch_tfms=batch_tfms, \n",
        "                 bs=128)\n",
        "dls.one_batch()"
      ]
    },
    {
      "cell_type": "markdown",
      "metadata": {
        "id": "9Y22KPBII3YY"
      },
      "source": [
        "`TSDatasets` identifies this as a regression problem, as the 2nd output (the ys) are floats. That's why the number of classes is set to 1. This is required to be able to correctly use the time series models available in `timesereisAI`."
      ]
    },
    {
      "cell_type": "code",
      "execution_count": 31,
      "metadata": {
        "colab": {
          "base_uri": "https://localhost:8080/"
        },
        "id": "odbh0biqI3YZ",
        "outputId": "9669b6e4-6532-41cf-ead9-843ffa75682b"
      },
      "outputs": [
        {
          "output_type": "execute_result",
          "data": {
            "text/plain": [
              "1"
            ]
          },
          "metadata": {},
          "execution_count": 31
        }
      ],
      "source": [
        "dls.c"
      ]
    },
    {
      "cell_type": "code",
      "execution_count": 32,
      "metadata": {
        "colab": {
          "base_uri": "https://localhost:8080/",
          "height": 463
        },
        "id": "YFmXnup4I3Ya",
        "outputId": "098dafe6-efb0-4464-92b5-13c649cdfe56"
      },
      "outputs": [
        {
          "output_type": "display_data",
          "data": {
            "text/plain": [
              "<Figure size 1296x864 with 9 Axes>"
            ],
            "image/png": "[encoded data removed]"
          },
          "metadata": {
            "needs_background": "light"
          }
        }
      ],
      "source": [
        "dls.show_batch()"
      ]
    },
    {
      "cell_type": "markdown",
      "metadata": {
        "id": "oq0TNdqyI3Yb"
      },
      "source": [
        "## Build learner 🏗"
      ]
    },
    {
      "cell_type": "markdown",
      "metadata": {
        "id": "3GFeBYvwI3Yb"
      },
      "source": [
        "* Model: we can choose any of the time series models available in `timeseriesAI`. The same ones that work for classification also work for regression. In this case we'll use a state-of-the-art time series model called ` InceptionTime`.\n",
        "* Loss: since this is a regression problem, we''l use a regression loss (`MSELossFlat`). However, there's not need to pass it to the Learner, as it will automatically infer the required loss.\n",
        "* Metrics: we'll also choose regression metrics. (`mse` will return the same result as the loss we have selected. Just added it for demo purposes)."
      ]
    },
    {
      "cell_type": "code",
      "execution_count": 33,
      "metadata": {
        "id": "Ykgbvy3TiaB4"
      },
      "outputs": [],
      "source": [
        "nf = 32\n",
        "depth = 3\n",
        "seed= 28"
      ]
    },
    {
      "cell_type": "code",
      "execution_count": 34,
      "metadata": {
        "colab": {
          "base_uri": "https://localhost:8080/",
          "height": 317
        },
        "id": "AB0mx9vzI3Yc",
        "outputId": "42a0c21b-6c91-40ec-8d1f-f219237d2fd3"
      },
      "outputs": [
        {
          "output_type": "stream",
          "name": "stdout",
          "text": [
            "157057\n"
          ]
        },
        {
          "output_type": "display_data",
          "data": {
            "text/plain": [
              "<IPython.core.display.HTML object>"
            ],
            "text/html": [
              "\n",
              "<style>\n",
              "    /* Turns off some styling */\n",
              "    progress {\n",
              "        /* gets rid of default border in Firefox and Opera. */\n",
              "        border: none;\n",
              "        /* Needs to be in here for Safari polyfill so background images work as expected. */\n",
              "        background-size: auto;\n",
              "    }\n",
              "    .progress-bar-interrupted, .progress-bar-interrupted::-webkit-progress-bar {\n",
              "        background: #F44336;\n",
              "    }\n",
              "</style>\n"
            ]
          },
          "metadata": {}
        },
        {
          "output_type": "display_data",
          "data": {
            "text/plain": [
              "<IPython.core.display.HTML object>"
            ],
            "text/html": [
              ""
            ]
          },
          "metadata": {}
        },
        {
          "output_type": "execute_result",
          "data": {
            "text/plain": [
              "SuggestedLRs(valley=0.0005754399462603033)"
            ]
          },
          "metadata": {},
          "execution_count": 34
        },
        {
          "output_type": "display_data",
          "data": {
            "text/plain": [
              "<Figure size 432x288 with 1 Axes>"
            ],
            "image/png": "[encoded data removed]"
          },
          "metadata": {
            "needs_background": "light"
          }
        }
      ],
      "source": [
        "random_seed(seed, True)\n",
        "learn = ts_learner(dls, InceptionTime(c_in=n_features, c_out=1, nf=nf, depth=depth), metrics=[mae, rmse], cbs=ShowGraph())\n",
        "print(count_parameters(learn.model))\n",
        "learn.lr_find()"
      ]
    },
    {
      "cell_type": "markdown",
      "metadata": {
        "id": "JHbAbWQUI3Yd"
      },
      "source": [
        "It seems we can use a lr around 1e-2. Let's try it."
      ]
    },
    {
      "cell_type": "code",
      "execution_count": 35,
      "metadata": {
        "colab": {
          "base_uri": "https://localhost:8080/"
        },
        "id": "cNq04kLmI3Ye",
        "outputId": "2195db85-0721-4e05-8d3e-75d0dbdd5600"
      },
      "outputs": [
        {
          "output_type": "execute_result",
          "data": {
            "text/plain": [
              "FlattenedLoss of MSELoss()"
            ]
          },
          "metadata": {},
          "execution_count": 35
        }
      ],
      "source": [
        "learn.loss_func"
      ]
    },
    {
      "cell_type": "markdown",
      "metadata": {
        "id": "DPriKyhjI3Yf"
      },
      "source": [
        "## Train model 🚵🏼‍"
      ]
    },
    {
      "cell_type": "code",
      "source": [
        "lr = 6e-4"
      ],
      "metadata": {
        "id": "7LGbEEMOvkgx"
      },
      "execution_count": 36,
      "outputs": []
    },
    {
      "cell_type": "code",
      "execution_count": 37,
      "metadata": {
        "colab": {
          "base_uri": "https://localhost:8080/",
          "height": 1000
        },
        "id": "ln2jTVg_I3Yg",
        "outputId": "327e8c1a-9859-4a7f-ff0d-6acd367e51d0"
      },
      "outputs": [
        {
          "output_type": "display_data",
          "data": {
            "text/plain": [
              "<IPython.core.display.HTML object>"
            ],
            "text/html": [
              "\n",
              "<style>\n",
              "    /* Turns off some styling */\n",
              "    progress {\n",
              "        /* gets rid of default border in Firefox and Opera. */\n",
              "        border: none;\n",
              "        /* Needs to be in here for Safari polyfill so background images work as expected. */\n",
              "        background-size: auto;\n",
              "    }\n",
              "    .progress-bar-interrupted, .progress-bar-interrupted::-webkit-progress-bar {\n",
              "        background: #F44336;\n",
              "    }\n",
              "</style>\n"
            ]
          },
          "metadata": {}
        },
        {
          "output_type": "display_data",
          "data": {
            "text/plain": [
              "<IPython.core.display.HTML object>"
            ],
            "text/html": [
              "<table border=\"1\" class=\"dataframe\">\n",
              "  <thead>\n",
              "    <tr style=\"text-align: left;\">\n",
              "      <th>epoch</th>\n",
              "      <th>train_loss</th>\n",
              "      <th>valid_loss</th>\n",
              "      <th>mae</th>\n",
              "      <th>_rmse</th>\n",
              "      <th>time</th>\n",
              "    </tr>\n",
              "  </thead>\n",
              "  <tbody>\n",
              "    <tr>\n",
              "      <td>0</td>\n",
              "      <td>0.046677</td>\n",
              "      <td>0.013665</td>\n",
              "      <td>0.101835</td>\n",
              "      <td>0.116897</td>\n",
              "      <td>00:02</td>\n",
              "    </tr>\n",
              "    <tr>\n",
              "      <td>1</td>\n",
              "      <td>0.003707</td>\n",
              "      <td>0.001445</td>\n",
              "      <td>0.026050</td>\n",
              "      <td>0.038018</td>\n",
              "      <td>00:02</td>\n",
              "    </tr>\n",
              "    <tr>\n",
              "      <td>2</td>\n",
              "      <td>0.001011</td>\n",
              "      <td>0.001146</td>\n",
              "      <td>0.022776</td>\n",
              "      <td>0.033852</td>\n",
              "      <td>00:02</td>\n",
              "    </tr>\n",
              "    <tr>\n",
              "      <td>3</td>\n",
              "      <td>0.000735</td>\n",
              "      <td>0.000565</td>\n",
              "      <td>0.017032</td>\n",
              "      <td>0.023779</td>\n",
              "      <td>00:02</td>\n",
              "    </tr>\n",
              "    <tr>\n",
              "      <td>4</td>\n",
              "      <td>0.000623</td>\n",
              "      <td>0.000654</td>\n",
              "      <td>0.017894</td>\n",
              "      <td>0.025570</td>\n",
              "      <td>00:02</td>\n",
              "    </tr>\n",
              "    <tr>\n",
              "      <td>5</td>\n",
              "      <td>0.000544</td>\n",
              "      <td>0.001463</td>\n",
              "      <td>0.026349</td>\n",
              "      <td>0.038254</td>\n",
              "      <td>00:02</td>\n",
              "    </tr>\n",
              "    <tr>\n",
              "      <td>6</td>\n",
              "      <td>0.000399</td>\n",
              "      <td>0.000418</td>\n",
              "      <td>0.014361</td>\n",
              "      <td>0.020446</td>\n",
              "      <td>00:02</td>\n",
              "    </tr>\n",
              "    <tr>\n",
              "      <td>7</td>\n",
              "      <td>0.000485</td>\n",
              "      <td>0.000336</td>\n",
              "      <td>0.012962</td>\n",
              "      <td>0.018319</td>\n",
              "      <td>00:02</td>\n",
              "    </tr>\n",
              "    <tr>\n",
              "      <td>8</td>\n",
              "      <td>0.000265</td>\n",
              "      <td>0.000164</td>\n",
              "      <td>0.008864</td>\n",
              "      <td>0.012810</td>\n",
              "      <td>00:02</td>\n",
              "    </tr>\n",
              "    <tr>\n",
              "      <td>9</td>\n",
              "      <td>0.000173</td>\n",
              "      <td>0.000978</td>\n",
              "      <td>0.019547</td>\n",
              "      <td>0.031272</td>\n",
              "      <td>00:02</td>\n",
              "    </tr>\n",
              "    <tr>\n",
              "      <td>10</td>\n",
              "      <td>0.000166</td>\n",
              "      <td>0.000193</td>\n",
              "      <td>0.010924</td>\n",
              "      <td>0.013881</td>\n",
              "      <td>00:02</td>\n",
              "    </tr>\n",
              "    <tr>\n",
              "      <td>11</td>\n",
              "      <td>0.000175</td>\n",
              "      <td>0.000131</td>\n",
              "      <td>0.008592</td>\n",
              "      <td>0.011436</td>\n",
              "      <td>00:03</td>\n",
              "    </tr>\n",
              "    <tr>\n",
              "      <td>12</td>\n",
              "      <td>0.000112</td>\n",
              "      <td>0.000076</td>\n",
              "      <td>0.006130</td>\n",
              "      <td>0.008736</td>\n",
              "      <td>00:02</td>\n",
              "    </tr>\n",
              "    <tr>\n",
              "      <td>13</td>\n",
              "      <td>0.000132</td>\n",
              "      <td>0.000088</td>\n",
              "      <td>0.006619</td>\n",
              "      <td>0.009403</td>\n",
              "      <td>00:02</td>\n",
              "    </tr>\n",
              "    <tr>\n",
              "      <td>14</td>\n",
              "      <td>0.000112</td>\n",
              "      <td>0.000091</td>\n",
              "      <td>0.006765</td>\n",
              "      <td>0.009551</td>\n",
              "      <td>00:02</td>\n",
              "    </tr>\n",
              "    <tr>\n",
              "      <td>15</td>\n",
              "      <td>0.000112</td>\n",
              "      <td>0.000092</td>\n",
              "      <td>0.006342</td>\n",
              "      <td>0.009617</td>\n",
              "      <td>00:02</td>\n",
              "    </tr>\n",
              "    <tr>\n",
              "      <td>16</td>\n",
              "      <td>0.000090</td>\n",
              "      <td>0.000220</td>\n",
              "      <td>0.009784</td>\n",
              "      <td>0.014845</td>\n",
              "      <td>00:02</td>\n",
              "    </tr>\n",
              "    <tr>\n",
              "      <td>17</td>\n",
              "      <td>0.000083</td>\n",
              "      <td>0.000069</td>\n",
              "      <td>0.005844</td>\n",
              "      <td>0.008291</td>\n",
              "      <td>00:02</td>\n",
              "    </tr>\n",
              "    <tr>\n",
              "      <td>18</td>\n",
              "      <td>0.000102</td>\n",
              "      <td>0.000076</td>\n",
              "      <td>0.006369</td>\n",
              "      <td>0.008698</td>\n",
              "      <td>00:02</td>\n",
              "    </tr>\n",
              "    <tr>\n",
              "      <td>19</td>\n",
              "      <td>0.000073</td>\n",
              "      <td>0.000078</td>\n",
              "      <td>0.006050</td>\n",
              "      <td>0.008851</td>\n",
              "      <td>00:02</td>\n",
              "    </tr>\n",
              "    <tr>\n",
              "      <td>20</td>\n",
              "      <td>0.000073</td>\n",
              "      <td>0.000105</td>\n",
              "      <td>0.006676</td>\n",
              "      <td>0.010237</td>\n",
              "      <td>00:02</td>\n",
              "    </tr>\n",
              "    <tr>\n",
              "      <td>21</td>\n",
              "      <td>0.000067</td>\n",
              "      <td>0.000076</td>\n",
              "      <td>0.006215</td>\n",
              "      <td>0.008727</td>\n",
              "      <td>00:02</td>\n",
              "    </tr>\n",
              "    <tr>\n",
              "      <td>22</td>\n",
              "      <td>0.000070</td>\n",
              "      <td>0.000139</td>\n",
              "      <td>0.008018</td>\n",
              "      <td>0.011806</td>\n",
              "      <td>00:02</td>\n",
              "    </tr>\n",
              "    <tr>\n",
              "      <td>23</td>\n",
              "      <td>0.000055</td>\n",
              "      <td>0.000088</td>\n",
              "      <td>0.006707</td>\n",
              "      <td>0.009398</td>\n",
              "      <td>00:02</td>\n",
              "    </tr>\n",
              "    <tr>\n",
              "      <td>24</td>\n",
              "      <td>0.000058</td>\n",
              "      <td>0.000055</td>\n",
              "      <td>0.005100</td>\n",
              "      <td>0.007447</td>\n",
              "      <td>00:02</td>\n",
              "    </tr>\n",
              "    <tr>\n",
              "      <td>25</td>\n",
              "      <td>0.000046</td>\n",
              "      <td>0.000116</td>\n",
              "      <td>0.008451</td>\n",
              "      <td>0.010787</td>\n",
              "      <td>00:02</td>\n",
              "    </tr>\n",
              "    <tr>\n",
              "      <td>26</td>\n",
              "      <td>0.000053</td>\n",
              "      <td>0.000120</td>\n",
              "      <td>0.008237</td>\n",
              "      <td>0.010963</td>\n",
              "      <td>00:02</td>\n",
              "    </tr>\n",
              "    <tr>\n",
              "      <td>27</td>\n",
              "      <td>0.000055</td>\n",
              "      <td>0.000092</td>\n",
              "      <td>0.007571</td>\n",
              "      <td>0.009614</td>\n",
              "      <td>00:02</td>\n",
              "    </tr>\n",
              "    <tr>\n",
              "      <td>28</td>\n",
              "      <td>0.000046</td>\n",
              "      <td>0.000055</td>\n",
              "      <td>0.005153</td>\n",
              "      <td>0.007449</td>\n",
              "      <td>00:02</td>\n",
              "    </tr>\n",
              "    <tr>\n",
              "      <td>29</td>\n",
              "      <td>0.000047</td>\n",
              "      <td>0.000058</td>\n",
              "      <td>0.005393</td>\n",
              "      <td>0.007648</td>\n",
              "      <td>00:02</td>\n",
              "    </tr>\n",
              "    <tr>\n",
              "      <td>30</td>\n",
              "      <td>0.000038</td>\n",
              "      <td>0.000068</td>\n",
              "      <td>0.005599</td>\n",
              "      <td>0.008243</td>\n",
              "      <td>00:02</td>\n",
              "    </tr>\n",
              "    <tr>\n",
              "      <td>31</td>\n",
              "      <td>0.000038</td>\n",
              "      <td>0.000059</td>\n",
              "      <td>0.005297</td>\n",
              "      <td>0.007700</td>\n",
              "      <td>00:02</td>\n",
              "    </tr>\n",
              "    <tr>\n",
              "      <td>32</td>\n",
              "      <td>0.000037</td>\n",
              "      <td>0.000056</td>\n",
              "      <td>0.005161</td>\n",
              "      <td>0.007514</td>\n",
              "      <td>00:02</td>\n",
              "    </tr>\n",
              "    <tr>\n",
              "      <td>33</td>\n",
              "      <td>0.000034</td>\n",
              "      <td>0.000058</td>\n",
              "      <td>0.005409</td>\n",
              "      <td>0.007595</td>\n",
              "      <td>00:02</td>\n",
              "    </tr>\n",
              "    <tr>\n",
              "      <td>34</td>\n",
              "      <td>0.000035</td>\n",
              "      <td>0.000056</td>\n",
              "      <td>0.005278</td>\n",
              "      <td>0.007515</td>\n",
              "      <td>00:02</td>\n",
              "    </tr>\n",
              "    <tr>\n",
              "      <td>35</td>\n",
              "      <td>0.000033</td>\n",
              "      <td>0.000058</td>\n",
              "      <td>0.005260</td>\n",
              "      <td>0.007602</td>\n",
              "      <td>00:02</td>\n",
              "    </tr>\n",
              "    <tr>\n",
              "      <td>36</td>\n",
              "      <td>0.000028</td>\n",
              "      <td>0.000053</td>\n",
              "      <td>0.004912</td>\n",
              "      <td>0.007257</td>\n",
              "      <td>00:02</td>\n",
              "    </tr>\n",
              "    <tr>\n",
              "      <td>37</td>\n",
              "      <td>0.000027</td>\n",
              "      <td>0.000061</td>\n",
              "      <td>0.005385</td>\n",
              "      <td>0.007779</td>\n",
              "      <td>00:02</td>\n",
              "    </tr>\n",
              "    <tr>\n",
              "      <td>38</td>\n",
              "      <td>0.000027</td>\n",
              "      <td>0.000060</td>\n",
              "      <td>0.005235</td>\n",
              "      <td>0.007753</td>\n",
              "      <td>00:02</td>\n",
              "    </tr>\n",
              "    <tr>\n",
              "      <td>39</td>\n",
              "      <td>0.000025</td>\n",
              "      <td>0.000052</td>\n",
              "      <td>0.004900</td>\n",
              "      <td>0.007214</td>\n",
              "      <td>00:02</td>\n",
              "    </tr>\n",
              "    <tr>\n",
              "      <td>40</td>\n",
              "      <td>0.000025</td>\n",
              "      <td>0.000053</td>\n",
              "      <td>0.004946</td>\n",
              "      <td>0.007268</td>\n",
              "      <td>00:02</td>\n",
              "    </tr>\n",
              "    <tr>\n",
              "      <td>41</td>\n",
              "      <td>0.000025</td>\n",
              "      <td>0.000053</td>\n",
              "      <td>0.004974</td>\n",
              "      <td>0.007307</td>\n",
              "      <td>00:02</td>\n",
              "    </tr>\n",
              "    <tr>\n",
              "      <td>42</td>\n",
              "      <td>0.000023</td>\n",
              "      <td>0.000054</td>\n",
              "      <td>0.004999</td>\n",
              "      <td>0.007363</td>\n",
              "      <td>00:02</td>\n",
              "    </tr>\n",
              "    <tr>\n",
              "      <td>43</td>\n",
              "      <td>0.000021</td>\n",
              "      <td>0.000054</td>\n",
              "      <td>0.004975</td>\n",
              "      <td>0.007359</td>\n",
              "      <td>00:02</td>\n",
              "    </tr>\n",
              "    <tr>\n",
              "      <td>44</td>\n",
              "      <td>0.000023</td>\n",
              "      <td>0.000051</td>\n",
              "      <td>0.004801</td>\n",
              "      <td>0.007121</td>\n",
              "      <td>00:02</td>\n",
              "    </tr>\n",
              "    <tr>\n",
              "      <td>45</td>\n",
              "      <td>0.000021</td>\n",
              "      <td>0.000053</td>\n",
              "      <td>0.004887</td>\n",
              "      <td>0.007252</td>\n",
              "      <td>00:02</td>\n",
              "    </tr>\n",
              "    <tr>\n",
              "      <td>46</td>\n",
              "      <td>0.000020</td>\n",
              "      <td>0.000050</td>\n",
              "      <td>0.004789</td>\n",
              "      <td>0.007103</td>\n",
              "      <td>00:02</td>\n",
              "    </tr>\n",
              "    <tr>\n",
              "      <td>47</td>\n",
              "      <td>0.000021</td>\n",
              "      <td>0.000051</td>\n",
              "      <td>0.004791</td>\n",
              "      <td>0.007121</td>\n",
              "      <td>00:02</td>\n",
              "    </tr>\n",
              "    <tr>\n",
              "      <td>48</td>\n",
              "      <td>0.000021</td>\n",
              "      <td>0.000050</td>\n",
              "      <td>0.004762</td>\n",
              "      <td>0.007081</td>\n",
              "      <td>00:02</td>\n",
              "    </tr>\n",
              "    <tr>\n",
              "      <td>49</td>\n",
              "      <td>0.000020</td>\n",
              "      <td>0.000051</td>\n",
              "      <td>0.004786</td>\n",
              "      <td>0.007121</td>\n",
              "      <td>00:02</td>\n",
              "    </tr>\n",
              "  </tbody>\n",
              "</table>"
            ]
          },
          "metadata": {}
        },
        {
          "output_type": "display_data",
          "data": {
            "text/plain": [
              "<Figure size 432x288 with 1 Axes>"
            ],
            "image/png": "[encoded data removed]"
          },
          "metadata": {}
        },
        {
          "output_type": "display_data",
          "data": {
            "text/plain": [
              "<Figure size 936x648 with 4 Axes>"
            ],
            "image/png": "[encoded data removed]"
          },
          "metadata": {
            "needs_background": "light"
          }
        }
      ],
      "source": [
        "random_seed(seed, True)\n",
        "dls = get_ts_dls(X, y, splits=splits, tfms=tfms, \n",
        "                 #batch_tfms=batch_tfms, \n",
        "                 bs=128)\n",
        "learn = ts_learner(dls, InceptionTime(c_in=n_features, c_out=1, nf=nf, depth=depth), metrics=[mae, rmse], cbs=ShowGraph())\n",
        "learn.fit_one_cycle(50, lr)"
      ]
    },
    {
      "cell_type": "code",
      "execution_count": 54,
      "metadata": {
        "colab": {
          "base_uri": "https://localhost:8080/",
          "height": 1000
        },
        "id": "rrUT42zoQxpD",
        "outputId": "2ae89ccd-f39a-41bf-90d4-2a027a3eee76"
      },
      "outputs": [
        {
          "output_type": "display_data",
          "data": {
            "text/plain": [
              "<IPython.core.display.HTML object>"
            ],
            "text/html": [
              "\n",
              "<style>\n",
              "    /* Turns off some styling */\n",
              "    progress {\n",
              "        /* gets rid of default border in Firefox and Opera. */\n",
              "        border: none;\n",
              "        /* Needs to be in here for Safari polyfill so background images work as expected. */\n",
              "        background-size: auto;\n",
              "    }\n",
              "    .progress-bar-interrupted, .progress-bar-interrupted::-webkit-progress-bar {\n",
              "        background: #F44336;\n",
              "    }\n",
              "</style>\n"
            ]
          },
          "metadata": {}
        },
        {
          "output_type": "display_data",
          "data": {
            "text/plain": [
              "<IPython.core.display.HTML object>"
            ],
            "text/html": [
              "<table border=\"1\" class=\"dataframe\">\n",
              "  <thead>\n",
              "    <tr style=\"text-align: left;\">\n",
              "      <th>epoch</th>\n",
              "      <th>train_loss</th>\n",
              "      <th>valid_loss</th>\n",
              "      <th>mae</th>\n",
              "      <th>_rmse</th>\n",
              "      <th>time</th>\n",
              "    </tr>\n",
              "  </thead>\n",
              "  <tbody>\n",
              "    <tr>\n",
              "      <td>0</td>\n",
              "      <td>0.000027</td>\n",
              "      <td>0.000059</td>\n",
              "      <td>0.005188</td>\n",
              "      <td>0.007710</td>\n",
              "      <td>00:03</td>\n",
              "    </tr>\n",
              "    <tr>\n",
              "      <td>1</td>\n",
              "      <td>0.000028</td>\n",
              "      <td>0.000053</td>\n",
              "      <td>0.004870</td>\n",
              "      <td>0.007284</td>\n",
              "      <td>00:03</td>\n",
              "    </tr>\n",
              "    <tr>\n",
              "      <td>2</td>\n",
              "      <td>0.000030</td>\n",
              "      <td>0.000055</td>\n",
              "      <td>0.005044</td>\n",
              "      <td>0.007450</td>\n",
              "      <td>00:03</td>\n",
              "    </tr>\n",
              "    <tr>\n",
              "      <td>3</td>\n",
              "      <td>0.000041</td>\n",
              "      <td>0.000097</td>\n",
              "      <td>0.006364</td>\n",
              "      <td>0.009847</td>\n",
              "      <td>00:03</td>\n",
              "    </tr>\n",
              "    <tr>\n",
              "      <td>4</td>\n",
              "      <td>0.000041</td>\n",
              "      <td>0.000063</td>\n",
              "      <td>0.005264</td>\n",
              "      <td>0.007920</td>\n",
              "      <td>00:03</td>\n",
              "    </tr>\n",
              "    <tr>\n",
              "      <td>5</td>\n",
              "      <td>0.000044</td>\n",
              "      <td>0.000100</td>\n",
              "      <td>0.006494</td>\n",
              "      <td>0.010015</td>\n",
              "      <td>00:03</td>\n",
              "    </tr>\n",
              "    <tr>\n",
              "      <td>6</td>\n",
              "      <td>0.000056</td>\n",
              "      <td>0.000164</td>\n",
              "      <td>0.007030</td>\n",
              "      <td>0.012824</td>\n",
              "      <td>00:03</td>\n",
              "    </tr>\n",
              "    <tr>\n",
              "      <td>7</td>\n",
              "      <td>0.000071</td>\n",
              "      <td>0.000077</td>\n",
              "      <td>0.005723</td>\n",
              "      <td>0.008799</td>\n",
              "      <td>00:03</td>\n",
              "    </tr>\n",
              "    <tr>\n",
              "      <td>8</td>\n",
              "      <td>0.000169</td>\n",
              "      <td>0.000241</td>\n",
              "      <td>0.011863</td>\n",
              "      <td>0.015527</td>\n",
              "      <td>00:03</td>\n",
              "    </tr>\n",
              "    <tr>\n",
              "      <td>9</td>\n",
              "      <td>0.000097</td>\n",
              "      <td>0.000062</td>\n",
              "      <td>0.005420</td>\n",
              "      <td>0.007887</td>\n",
              "      <td>00:03</td>\n",
              "    </tr>\n",
              "    <tr>\n",
              "      <td>10</td>\n",
              "      <td>0.000169</td>\n",
              "      <td>0.000073</td>\n",
              "      <td>0.005705</td>\n",
              "      <td>0.008518</td>\n",
              "      <td>00:03</td>\n",
              "    </tr>\n",
              "    <tr>\n",
              "      <td>11</td>\n",
              "      <td>0.000102</td>\n",
              "      <td>0.000524</td>\n",
              "      <td>0.010527</td>\n",
              "      <td>0.022890</td>\n",
              "      <td>00:03</td>\n",
              "    </tr>\n",
              "    <tr>\n",
              "      <td>12</td>\n",
              "      <td>0.000114</td>\n",
              "      <td>0.000143</td>\n",
              "      <td>0.007397</td>\n",
              "      <td>0.011972</td>\n",
              "      <td>00:03</td>\n",
              "    </tr>\n",
              "    <tr>\n",
              "      <td>13</td>\n",
              "      <td>0.000117</td>\n",
              "      <td>0.000172</td>\n",
              "      <td>0.007566</td>\n",
              "      <td>0.013099</td>\n",
              "      <td>00:03</td>\n",
              "    </tr>\n",
              "    <tr>\n",
              "      <td>14</td>\n",
              "      <td>0.000245</td>\n",
              "      <td>0.001215</td>\n",
              "      <td>0.019074</td>\n",
              "      <td>0.034859</td>\n",
              "      <td>00:03</td>\n",
              "    </tr>\n",
              "    <tr>\n",
              "      <td>15</td>\n",
              "      <td>0.000093</td>\n",
              "      <td>0.000160</td>\n",
              "      <td>0.007618</td>\n",
              "      <td>0.012649</td>\n",
              "      <td>00:03</td>\n",
              "    </tr>\n",
              "    <tr>\n",
              "      <td>16</td>\n",
              "      <td>0.000114</td>\n",
              "      <td>0.000146</td>\n",
              "      <td>0.006853</td>\n",
              "      <td>0.012067</td>\n",
              "      <td>00:03</td>\n",
              "    </tr>\n",
              "    <tr>\n",
              "      <td>17</td>\n",
              "      <td>0.000120</td>\n",
              "      <td>0.000074</td>\n",
              "      <td>0.005817</td>\n",
              "      <td>0.008613</td>\n",
              "      <td>00:03</td>\n",
              "    </tr>\n",
              "    <tr>\n",
              "      <td>18</td>\n",
              "      <td>0.000114</td>\n",
              "      <td>0.000135</td>\n",
              "      <td>0.006954</td>\n",
              "      <td>0.011608</td>\n",
              "      <td>00:03</td>\n",
              "    </tr>\n",
              "    <tr>\n",
              "      <td>19</td>\n",
              "      <td>0.000101</td>\n",
              "      <td>0.000058</td>\n",
              "      <td>0.005035</td>\n",
              "      <td>0.007622</td>\n",
              "      <td>00:03</td>\n",
              "    </tr>\n",
              "    <tr>\n",
              "      <td>20</td>\n",
              "      <td>0.000077</td>\n",
              "      <td>0.000058</td>\n",
              "      <td>0.005186</td>\n",
              "      <td>0.007618</td>\n",
              "      <td>00:03</td>\n",
              "    </tr>\n",
              "    <tr>\n",
              "      <td>21</td>\n",
              "      <td>0.000073</td>\n",
              "      <td>0.000082</td>\n",
              "      <td>0.006555</td>\n",
              "      <td>0.009036</td>\n",
              "      <td>00:03</td>\n",
              "    </tr>\n",
              "    <tr>\n",
              "      <td>22</td>\n",
              "      <td>0.000063</td>\n",
              "      <td>0.000163</td>\n",
              "      <td>0.007419</td>\n",
              "      <td>0.012780</td>\n",
              "      <td>00:03</td>\n",
              "    </tr>\n",
              "    <tr>\n",
              "      <td>23</td>\n",
              "      <td>0.000057</td>\n",
              "      <td>0.000256</td>\n",
              "      <td>0.009989</td>\n",
              "      <td>0.015995</td>\n",
              "      <td>00:03</td>\n",
              "    </tr>\n",
              "    <tr>\n",
              "      <td>24</td>\n",
              "      <td>0.000058</td>\n",
              "      <td>0.000058</td>\n",
              "      <td>0.005177</td>\n",
              "      <td>0.007617</td>\n",
              "      <td>00:03</td>\n",
              "    </tr>\n",
              "    <tr>\n",
              "      <td>25</td>\n",
              "      <td>0.000063</td>\n",
              "      <td>0.000061</td>\n",
              "      <td>0.005367</td>\n",
              "      <td>0.007800</td>\n",
              "      <td>00:03</td>\n",
              "    </tr>\n",
              "    <tr>\n",
              "      <td>26</td>\n",
              "      <td>0.000064</td>\n",
              "      <td>0.000063</td>\n",
              "      <td>0.005510</td>\n",
              "      <td>0.007907</td>\n",
              "      <td>00:03</td>\n",
              "    </tr>\n",
              "    <tr>\n",
              "      <td>27</td>\n",
              "      <td>0.000063</td>\n",
              "      <td>0.000084</td>\n",
              "      <td>0.006493</td>\n",
              "      <td>0.009187</td>\n",
              "      <td>00:03</td>\n",
              "    </tr>\n",
              "    <tr>\n",
              "      <td>28</td>\n",
              "      <td>0.000049</td>\n",
              "      <td>0.000100</td>\n",
              "      <td>0.006798</td>\n",
              "      <td>0.009992</td>\n",
              "      <td>00:03</td>\n",
              "    </tr>\n",
              "    <tr>\n",
              "      <td>29</td>\n",
              "      <td>0.000036</td>\n",
              "      <td>0.000059</td>\n",
              "      <td>0.005261</td>\n",
              "      <td>0.007672</td>\n",
              "      <td>00:03</td>\n",
              "    </tr>\n",
              "    <tr>\n",
              "      <td>30</td>\n",
              "      <td>0.000037</td>\n",
              "      <td>0.000058</td>\n",
              "      <td>0.005348</td>\n",
              "      <td>0.007605</td>\n",
              "      <td>00:03</td>\n",
              "    </tr>\n",
              "    <tr>\n",
              "      <td>31</td>\n",
              "      <td>0.000035</td>\n",
              "      <td>0.000054</td>\n",
              "      <td>0.004945</td>\n",
              "      <td>0.007332</td>\n",
              "      <td>00:03</td>\n",
              "    </tr>\n",
              "    <tr>\n",
              "      <td>32</td>\n",
              "      <td>0.000037</td>\n",
              "      <td>0.000077</td>\n",
              "      <td>0.005592</td>\n",
              "      <td>0.008767</td>\n",
              "      <td>00:03</td>\n",
              "    </tr>\n",
              "    <tr>\n",
              "      <td>33</td>\n",
              "      <td>0.000030</td>\n",
              "      <td>0.000080</td>\n",
              "      <td>0.006091</td>\n",
              "      <td>0.008966</td>\n",
              "      <td>00:03</td>\n",
              "    </tr>\n",
              "    <tr>\n",
              "      <td>34</td>\n",
              "      <td>0.000027</td>\n",
              "      <td>0.000072</td>\n",
              "      <td>0.005409</td>\n",
              "      <td>0.008478</td>\n",
              "      <td>00:03</td>\n",
              "    </tr>\n",
              "    <tr>\n",
              "      <td>35</td>\n",
              "      <td>0.000029</td>\n",
              "      <td>0.000065</td>\n",
              "      <td>0.005380</td>\n",
              "      <td>0.008089</td>\n",
              "      <td>00:03</td>\n",
              "    </tr>\n",
              "    <tr>\n",
              "      <td>36</td>\n",
              "      <td>0.000029</td>\n",
              "      <td>0.000066</td>\n",
              "      <td>0.005298</td>\n",
              "      <td>0.008100</td>\n",
              "      <td>00:03</td>\n",
              "    </tr>\n",
              "    <tr>\n",
              "      <td>37</td>\n",
              "      <td>0.000034</td>\n",
              "      <td>0.000097</td>\n",
              "      <td>0.006759</td>\n",
              "      <td>0.009873</td>\n",
              "      <td>00:03</td>\n",
              "    </tr>\n",
              "    <tr>\n",
              "      <td>38</td>\n",
              "      <td>0.000022</td>\n",
              "      <td>0.000054</td>\n",
              "      <td>0.005023</td>\n",
              "      <td>0.007372</td>\n",
              "      <td>00:03</td>\n",
              "    </tr>\n",
              "    <tr>\n",
              "      <td>39</td>\n",
              "      <td>0.000022</td>\n",
              "      <td>0.000051</td>\n",
              "      <td>0.004728</td>\n",
              "      <td>0.007107</td>\n",
              "      <td>00:03</td>\n",
              "    </tr>\n",
              "    <tr>\n",
              "      <td>40</td>\n",
              "      <td>0.000017</td>\n",
              "      <td>0.000051</td>\n",
              "      <td>0.004733</td>\n",
              "      <td>0.007131</td>\n",
              "      <td>00:03</td>\n",
              "    </tr>\n",
              "    <tr>\n",
              "      <td>41</td>\n",
              "      <td>0.000017</td>\n",
              "      <td>0.000050</td>\n",
              "      <td>0.004673</td>\n",
              "      <td>0.007071</td>\n",
              "      <td>00:03</td>\n",
              "    </tr>\n",
              "    <tr>\n",
              "      <td>42</td>\n",
              "      <td>0.000015</td>\n",
              "      <td>0.000053</td>\n",
              "      <td>0.004850</td>\n",
              "      <td>0.007251</td>\n",
              "      <td>00:03</td>\n",
              "    </tr>\n",
              "    <tr>\n",
              "      <td>43</td>\n",
              "      <td>0.000017</td>\n",
              "      <td>0.000054</td>\n",
              "      <td>0.004924</td>\n",
              "      <td>0.007347</td>\n",
              "      <td>00:03</td>\n",
              "    </tr>\n",
              "    <tr>\n",
              "      <td>44</td>\n",
              "      <td>0.000014</td>\n",
              "      <td>0.000050</td>\n",
              "      <td>0.004660</td>\n",
              "      <td>0.007074</td>\n",
              "      <td>00:03</td>\n",
              "    </tr>\n",
              "    <tr>\n",
              "      <td>45</td>\n",
              "      <td>0.000014</td>\n",
              "      <td>0.000053</td>\n",
              "      <td>0.004826</td>\n",
              "      <td>0.007297</td>\n",
              "      <td>00:03</td>\n",
              "    </tr>\n",
              "    <tr>\n",
              "      <td>46</td>\n",
              "      <td>0.000014</td>\n",
              "      <td>0.000050</td>\n",
              "      <td>0.004650</td>\n",
              "      <td>0.007061</td>\n",
              "      <td>00:03</td>\n",
              "    </tr>\n",
              "    <tr>\n",
              "      <td>47</td>\n",
              "      <td>0.000013</td>\n",
              "      <td>0.000050</td>\n",
              "      <td>0.004644</td>\n",
              "      <td>0.007049</td>\n",
              "      <td>00:03</td>\n",
              "    </tr>\n",
              "    <tr>\n",
              "      <td>48</td>\n",
              "      <td>0.000013</td>\n",
              "      <td>0.000050</td>\n",
              "      <td>0.004670</td>\n",
              "      <td>0.007069</td>\n",
              "      <td>00:03</td>\n",
              "    </tr>\n",
              "    <tr>\n",
              "      <td>49</td>\n",
              "      <td>0.000013</td>\n",
              "      <td>0.000050</td>\n",
              "      <td>0.004642</td>\n",
              "      <td>0.007055</td>\n",
              "      <td>00:03</td>\n",
              "    </tr>\n",
              "  </tbody>\n",
              "</table>"
            ]
          },
          "metadata": {}
        },
        {
          "output_type": "display_data",
          "data": {
            "text/plain": [
              "<Figure size 432x288 with 1 Axes>"
            ],
            "image/png": "[encoded data removed]"
          },
          "metadata": {}
        },
        {
          "output_type": "display_data",
          "data": {
            "text/plain": [
              "<Figure size 936x648 with 4 Axes>"
            ],
            "image/png": "[encoded data removed]"
          },
          "metadata": {
            "needs_background": "light"
          }
        }
      ],
      "source": [
        "learn.fit_one_cycle(50, lr)"
      ]
    },
    {
      "cell_type": "code",
      "source": [
        "splits = (L(range(30493)), L(range(20000, 30494)))\n",
        "dls = get_ts_dls(X, y, splits=splits, tfms=tfms, \n",
        "                 #batch_tfms=batch_tfms, \n",
        "                 bs=128)\n",
        "learn = ts_learner(dls, InceptionTime(c_in=n_features, c_out=1, nf=nf), #metrics=[mae, rmse], cbs=ShowGraph()\n",
        ")\n",
        "learn.fit_one_cycle(50, lr)\n",
        "learn.fit_one_cycle(50, lr)"
      ],
      "metadata": {
        "colab": {
          "base_uri": "https://localhost:8080/",
          "height": 1000
        },
        "id": "ERtCYYVzXPhg",
        "outputId": "d5244dec-0d07-4c60-e7bc-25a410e3910f"
      },
      "execution_count": 57,
      "outputs": [
        {
          "output_type": "display_data",
          "data": {
            "text/plain": [
              "<IPython.core.display.HTML object>"
            ],
            "text/html": [
              "\n",
              "<style>\n",
              "    /* Turns off some styling */\n",
              "    progress {\n",
              "        /* gets rid of default border in Firefox and Opera. */\n",
              "        border: none;\n",
              "        /* Needs to be in here for Safari polyfill so background images work as expected. */\n",
              "        background-size: auto;\n",
              "    }\n",
              "    .progress-bar-interrupted, .progress-bar-interrupted::-webkit-progress-bar {\n",
              "        background: #F44336;\n",
              "    }\n",
              "</style>\n"
            ]
          },
          "metadata": {}
        },
        {
          "output_type": "display_data",
          "data": {
            "text/plain": [
              "<IPython.core.display.HTML object>"
            ],
            "text/html": [
              "<table border=\"1\" class=\"dataframe\">\n",
              "  <thead>\n",
              "    <tr style=\"text-align: left;\">\n",
              "      <th>epoch</th>\n",
              "      <th>train_loss</th>\n",
              "      <th>valid_loss</th>\n",
              "      <th>time</th>\n",
              "    </tr>\n",
              "  </thead>\n",
              "  <tbody>\n",
              "    <tr>\n",
              "      <td>0</td>\n",
              "      <td>0.002117</td>\n",
              "      <td>0.001050</td>\n",
              "      <td>00:05</td>\n",
              "    </tr>\n",
              "    <tr>\n",
              "      <td>1</td>\n",
              "      <td>0.001217</td>\n",
              "      <td>0.000671</td>\n",
              "      <td>00:05</td>\n",
              "    </tr>\n",
              "    <tr>\n",
              "      <td>2</td>\n",
              "      <td>0.000721</td>\n",
              "      <td>0.000480</td>\n",
              "      <td>00:04</td>\n",
              "    </tr>\n",
              "    <tr>\n",
              "      <td>3</td>\n",
              "      <td>0.000631</td>\n",
              "      <td>0.000424</td>\n",
              "      <td>00:04</td>\n",
              "    </tr>\n",
              "    <tr>\n",
              "      <td>4</td>\n",
              "      <td>0.000297</td>\n",
              "      <td>0.001825</td>\n",
              "      <td>00:04</td>\n",
              "    </tr>\n",
              "    <tr>\n",
              "      <td>5</td>\n",
              "      <td>0.000354</td>\n",
              "      <td>0.000742</td>\n",
              "      <td>00:04</td>\n",
              "    </tr>\n",
              "    <tr>\n",
              "      <td>6</td>\n",
              "      <td>0.000273</td>\n",
              "      <td>0.000421</td>\n",
              "      <td>00:04</td>\n",
              "    </tr>\n",
              "    <tr>\n",
              "      <td>7</td>\n",
              "      <td>0.000261</td>\n",
              "      <td>0.003465</td>\n",
              "      <td>00:04</td>\n",
              "    </tr>\n",
              "    <tr>\n",
              "      <td>8</td>\n",
              "      <td>0.000218</td>\n",
              "      <td>0.000140</td>\n",
              "      <td>00:04</td>\n",
              "    </tr>\n",
              "    <tr>\n",
              "      <td>9</td>\n",
              "      <td>0.000367</td>\n",
              "      <td>0.000100</td>\n",
              "      <td>00:04</td>\n",
              "    </tr>\n",
              "    <tr>\n",
              "      <td>10</td>\n",
              "      <td>0.000240</td>\n",
              "      <td>0.000101</td>\n",
              "      <td>00:04</td>\n",
              "    </tr>\n",
              "    <tr>\n",
              "      <td>11</td>\n",
              "      <td>0.000214</td>\n",
              "      <td>0.000878</td>\n",
              "      <td>00:04</td>\n",
              "    </tr>\n",
              "    <tr>\n",
              "      <td>12</td>\n",
              "      <td>0.000250</td>\n",
              "      <td>0.000402</td>\n",
              "      <td>00:06</td>\n",
              "    </tr>\n",
              "    <tr>\n",
              "      <td>13</td>\n",
              "      <td>0.000196</td>\n",
              "      <td>0.000579</td>\n",
              "      <td>00:05</td>\n",
              "    </tr>\n",
              "    <tr>\n",
              "      <td>14</td>\n",
              "      <td>0.000204</td>\n",
              "      <td>0.000168</td>\n",
              "      <td>00:04</td>\n",
              "    </tr>\n",
              "    <tr>\n",
              "      <td>15</td>\n",
              "      <td>0.000181</td>\n",
              "      <td>0.000363</td>\n",
              "      <td>00:04</td>\n",
              "    </tr>\n",
              "    <tr>\n",
              "      <td>16</td>\n",
              "      <td>0.000204</td>\n",
              "      <td>0.000236</td>\n",
              "      <td>00:04</td>\n",
              "    </tr>\n",
              "    <tr>\n",
              "      <td>17</td>\n",
              "      <td>0.000150</td>\n",
              "      <td>0.000654</td>\n",
              "      <td>00:04</td>\n",
              "    </tr>\n",
              "    <tr>\n",
              "      <td>18</td>\n",
              "      <td>0.000158</td>\n",
              "      <td>0.000285</td>\n",
              "      <td>00:04</td>\n",
              "    </tr>\n",
              "    <tr>\n",
              "      <td>19</td>\n",
              "      <td>0.000178</td>\n",
              "      <td>0.000076</td>\n",
              "      <td>00:04</td>\n",
              "    </tr>\n",
              "    <tr>\n",
              "      <td>20</td>\n",
              "      <td>0.000127</td>\n",
              "      <td>0.000118</td>\n",
              "      <td>00:04</td>\n",
              "    </tr>\n",
              "    <tr>\n",
              "      <td>21</td>\n",
              "      <td>0.000143</td>\n",
              "      <td>0.000145</td>\n",
              "      <td>00:04</td>\n",
              "    </tr>\n",
              "    <tr>\n",
              "      <td>22</td>\n",
              "      <td>0.000091</td>\n",
              "      <td>0.000056</td>\n",
              "      <td>00:04</td>\n",
              "    </tr>\n",
              "    <tr>\n",
              "      <td>23</td>\n",
              "      <td>0.000120</td>\n",
              "      <td>0.000061</td>\n",
              "      <td>00:04</td>\n",
              "    </tr>\n",
              "    <tr>\n",
              "      <td>24</td>\n",
              "      <td>0.000099</td>\n",
              "      <td>0.000076</td>\n",
              "      <td>00:04</td>\n",
              "    </tr>\n",
              "    <tr>\n",
              "      <td>25</td>\n",
              "      <td>0.000069</td>\n",
              "      <td>0.000118</td>\n",
              "      <td>00:05</td>\n",
              "    </tr>\n",
              "    <tr>\n",
              "      <td>26</td>\n",
              "      <td>0.000067</td>\n",
              "      <td>0.000040</td>\n",
              "      <td>00:05</td>\n",
              "    </tr>\n",
              "    <tr>\n",
              "      <td>27</td>\n",
              "      <td>0.000087</td>\n",
              "      <td>0.000058</td>\n",
              "      <td>00:04</td>\n",
              "    </tr>\n",
              "    <tr>\n",
              "      <td>28</td>\n",
              "      <td>0.000067</td>\n",
              "      <td>0.000255</td>\n",
              "      <td>00:04</td>\n",
              "    </tr>\n",
              "    <tr>\n",
              "      <td>29</td>\n",
              "      <td>0.000074</td>\n",
              "      <td>0.000040</td>\n",
              "      <td>00:04</td>\n",
              "    </tr>\n",
              "    <tr>\n",
              "      <td>30</td>\n",
              "      <td>0.000040</td>\n",
              "      <td>0.000028</td>\n",
              "      <td>00:04</td>\n",
              "    </tr>\n",
              "    <tr>\n",
              "      <td>31</td>\n",
              "      <td>0.000054</td>\n",
              "      <td>0.000023</td>\n",
              "      <td>00:04</td>\n",
              "    </tr>\n",
              "    <tr>\n",
              "      <td>32</td>\n",
              "      <td>0.000047</td>\n",
              "      <td>0.000027</td>\n",
              "      <td>00:04</td>\n",
              "    </tr>\n",
              "    <tr>\n",
              "      <td>33</td>\n",
              "      <td>0.000039</td>\n",
              "      <td>0.000032</td>\n",
              "      <td>00:04</td>\n",
              "    </tr>\n",
              "    <tr>\n",
              "      <td>34</td>\n",
              "      <td>0.000052</td>\n",
              "      <td>0.000070</td>\n",
              "      <td>00:04</td>\n",
              "    </tr>\n",
              "    <tr>\n",
              "      <td>35</td>\n",
              "      <td>0.000044</td>\n",
              "      <td>0.000046</td>\n",
              "      <td>00:04</td>\n",
              "    </tr>\n",
              "    <tr>\n",
              "      <td>36</td>\n",
              "      <td>0.000035</td>\n",
              "      <td>0.000019</td>\n",
              "      <td>00:04</td>\n",
              "    </tr>\n",
              "    <tr>\n",
              "      <td>37</td>\n",
              "      <td>0.000032</td>\n",
              "      <td>0.000065</td>\n",
              "      <td>00:04</td>\n",
              "    </tr>\n",
              "    <tr>\n",
              "      <td>38</td>\n",
              "      <td>0.000027</td>\n",
              "      <td>0.000028</td>\n",
              "      <td>00:05</td>\n",
              "    </tr>\n",
              "    <tr>\n",
              "      <td>39</td>\n",
              "      <td>0.000027</td>\n",
              "      <td>0.000024</td>\n",
              "      <td>00:04</td>\n",
              "    </tr>\n",
              "    <tr>\n",
              "      <td>40</td>\n",
              "      <td>0.000026</td>\n",
              "      <td>0.000019</td>\n",
              "      <td>00:04</td>\n",
              "    </tr>\n",
              "    <tr>\n",
              "      <td>41</td>\n",
              "      <td>0.000022</td>\n",
              "      <td>0.000018</td>\n",
              "      <td>00:04</td>\n",
              "    </tr>\n",
              "    <tr>\n",
              "      <td>42</td>\n",
              "      <td>0.000024</td>\n",
              "      <td>0.000016</td>\n",
              "      <td>00:04</td>\n",
              "    </tr>\n",
              "    <tr>\n",
              "      <td>43</td>\n",
              "      <td>0.000022</td>\n",
              "      <td>0.000016</td>\n",
              "      <td>00:04</td>\n",
              "    </tr>\n",
              "    <tr>\n",
              "      <td>44</td>\n",
              "      <td>0.000023</td>\n",
              "      <td>0.000015</td>\n",
              "      <td>00:04</td>\n",
              "    </tr>\n",
              "    <tr>\n",
              "      <td>45</td>\n",
              "      <td>0.000022</td>\n",
              "      <td>0.000019</td>\n",
              "      <td>00:04</td>\n",
              "    </tr>\n",
              "    <tr>\n",
              "      <td>46</td>\n",
              "      <td>0.000019</td>\n",
              "      <td>0.000015</td>\n",
              "      <td>00:04</td>\n",
              "    </tr>\n",
              "    <tr>\n",
              "      <td>47</td>\n",
              "      <td>0.000019</td>\n",
              "      <td>0.000015</td>\n",
              "      <td>00:04</td>\n",
              "    </tr>\n",
              "    <tr>\n",
              "      <td>48</td>\n",
              "      <td>0.000020</td>\n",
              "      <td>0.000015</td>\n",
              "      <td>00:04</td>\n",
              "    </tr>\n",
              "    <tr>\n",
              "      <td>49</td>\n",
              "      <td>0.000019</td>\n",
              "      <td>0.000015</td>\n",
              "      <td>00:04</td>\n",
              "    </tr>\n",
              "  </tbody>\n",
              "</table>"
            ]
          },
          "metadata": {}
        },
        {
          "output_type": "display_data",
          "data": {
            "text/plain": [
              "<IPython.core.display.HTML object>"
            ],
            "text/html": [
              "\n",
              "<style>\n",
              "    /* Turns off some styling */\n",
              "    progress {\n",
              "        /* gets rid of default border in Firefox and Opera. */\n",
              "        border: none;\n",
              "        /* Needs to be in here for Safari polyfill so background images work as expected. */\n",
              "        background-size: auto;\n",
              "    }\n",
              "    .progress-bar-interrupted, .progress-bar-interrupted::-webkit-progress-bar {\n",
              "        background: #F44336;\n",
              "    }\n",
              "</style>\n"
            ]
          },
          "metadata": {}
        },
        {
          "output_type": "display_data",
          "data": {
            "text/plain": [
              "<IPython.core.display.HTML object>"
            ],
            "text/html": [
              "<table border=\"1\" class=\"dataframe\">\n",
              "  <thead>\n",
              "    <tr style=\"text-align: left;\">\n",
              "      <th>epoch</th>\n",
              "      <th>train_loss</th>\n",
              "      <th>valid_loss</th>\n",
              "      <th>time</th>\n",
              "    </tr>\n",
              "  </thead>\n",
              "  <tbody>\n",
              "    <tr>\n",
              "      <td>0</td>\n",
              "      <td>0.000021</td>\n",
              "      <td>0.000027</td>\n",
              "      <td>00:05</td>\n",
              "    </tr>\n",
              "    <tr>\n",
              "      <td>1</td>\n",
              "      <td>0.000021</td>\n",
              "      <td>0.000016</td>\n",
              "      <td>00:05</td>\n",
              "    </tr>\n",
              "    <tr>\n",
              "      <td>2</td>\n",
              "      <td>0.000028</td>\n",
              "      <td>0.000015</td>\n",
              "      <td>00:04</td>\n",
              "    </tr>\n",
              "    <tr>\n",
              "      <td>3</td>\n",
              "      <td>0.000028</td>\n",
              "      <td>0.000018</td>\n",
              "      <td>00:04</td>\n",
              "    </tr>\n",
              "    <tr>\n",
              "      <td>4</td>\n",
              "      <td>0.000034</td>\n",
              "      <td>0.000021</td>\n",
              "      <td>00:04</td>\n",
              "    </tr>\n",
              "    <tr>\n",
              "      <td>5</td>\n",
              "      <td>0.000052</td>\n",
              "      <td>0.000135</td>\n",
              "      <td>00:04</td>\n",
              "    </tr>\n",
              "    <tr>\n",
              "      <td>6</td>\n",
              "      <td>0.000049</td>\n",
              "      <td>0.000093</td>\n",
              "      <td>00:04</td>\n",
              "    </tr>\n",
              "    <tr>\n",
              "      <td>7</td>\n",
              "      <td>0.000046</td>\n",
              "      <td>0.000020</td>\n",
              "      <td>00:04</td>\n",
              "    </tr>\n",
              "    <tr>\n",
              "      <td>8</td>\n",
              "      <td>0.000094</td>\n",
              "      <td>0.000042</td>\n",
              "      <td>00:04</td>\n",
              "    </tr>\n",
              "    <tr>\n",
              "      <td>9</td>\n",
              "      <td>0.000092</td>\n",
              "      <td>0.000028</td>\n",
              "      <td>00:04</td>\n",
              "    </tr>\n",
              "    <tr>\n",
              "      <td>10</td>\n",
              "      <td>0.000118</td>\n",
              "      <td>0.000084</td>\n",
              "      <td>00:04</td>\n",
              "    </tr>\n",
              "    <tr>\n",
              "      <td>11</td>\n",
              "      <td>0.000114</td>\n",
              "      <td>0.000078</td>\n",
              "      <td>00:04</td>\n",
              "    </tr>\n",
              "    <tr>\n",
              "      <td>12</td>\n",
              "      <td>0.000152</td>\n",
              "      <td>0.000040</td>\n",
              "      <td>00:04</td>\n",
              "    </tr>\n",
              "    <tr>\n",
              "      <td>13</td>\n",
              "      <td>0.000182</td>\n",
              "      <td>0.000156</td>\n",
              "      <td>00:05</td>\n",
              "    </tr>\n",
              "    <tr>\n",
              "      <td>14</td>\n",
              "      <td>0.000105</td>\n",
              "      <td>0.000050</td>\n",
              "      <td>00:04</td>\n",
              "    </tr>\n",
              "    <tr>\n",
              "      <td>15</td>\n",
              "      <td>0.000084</td>\n",
              "      <td>0.000035</td>\n",
              "      <td>00:04</td>\n",
              "    </tr>\n",
              "    <tr>\n",
              "      <td>16</td>\n",
              "      <td>0.000097</td>\n",
              "      <td>0.000041</td>\n",
              "      <td>00:04</td>\n",
              "    </tr>\n",
              "    <tr>\n",
              "      <td>17</td>\n",
              "      <td>0.000102</td>\n",
              "      <td>0.000955</td>\n",
              "      <td>00:04</td>\n",
              "    </tr>\n",
              "    <tr>\n",
              "      <td>18</td>\n",
              "      <td>0.000073</td>\n",
              "      <td>0.000067</td>\n",
              "      <td>00:04</td>\n",
              "    </tr>\n",
              "    <tr>\n",
              "      <td>19</td>\n",
              "      <td>0.000088</td>\n",
              "      <td>0.000057</td>\n",
              "      <td>00:04</td>\n",
              "    </tr>\n",
              "    <tr>\n",
              "      <td>20</td>\n",
              "      <td>0.000088</td>\n",
              "      <td>0.000129</td>\n",
              "      <td>00:04</td>\n",
              "    </tr>\n",
              "    <tr>\n",
              "      <td>21</td>\n",
              "      <td>0.000088</td>\n",
              "      <td>0.000026</td>\n",
              "      <td>00:04</td>\n",
              "    </tr>\n",
              "    <tr>\n",
              "      <td>22</td>\n",
              "      <td>0.000059</td>\n",
              "      <td>0.000068</td>\n",
              "      <td>00:04</td>\n",
              "    </tr>\n",
              "    <tr>\n",
              "      <td>23</td>\n",
              "      <td>0.000099</td>\n",
              "      <td>0.000265</td>\n",
              "      <td>00:04</td>\n",
              "    </tr>\n",
              "    <tr>\n",
              "      <td>24</td>\n",
              "      <td>0.000047</td>\n",
              "      <td>0.000072</td>\n",
              "      <td>00:04</td>\n",
              "    </tr>\n",
              "    <tr>\n",
              "      <td>25</td>\n",
              "      <td>0.000083</td>\n",
              "      <td>0.000177</td>\n",
              "      <td>00:05</td>\n",
              "    </tr>\n",
              "    <tr>\n",
              "      <td>26</td>\n",
              "      <td>0.000046</td>\n",
              "      <td>0.000018</td>\n",
              "      <td>00:04</td>\n",
              "    </tr>\n",
              "    <tr>\n",
              "      <td>27</td>\n",
              "      <td>0.000041</td>\n",
              "      <td>0.000041</td>\n",
              "      <td>00:04</td>\n",
              "    </tr>\n",
              "    <tr>\n",
              "      <td>28</td>\n",
              "      <td>0.000061</td>\n",
              "      <td>0.000024</td>\n",
              "      <td>00:04</td>\n",
              "    </tr>\n",
              "    <tr>\n",
              "      <td>29</td>\n",
              "      <td>0.000036</td>\n",
              "      <td>0.000015</td>\n",
              "      <td>00:04</td>\n",
              "    </tr>\n",
              "    <tr>\n",
              "      <td>30</td>\n",
              "      <td>0.000043</td>\n",
              "      <td>0.000022</td>\n",
              "      <td>00:04</td>\n",
              "    </tr>\n",
              "    <tr>\n",
              "      <td>31</td>\n",
              "      <td>0.000032</td>\n",
              "      <td>0.000023</td>\n",
              "      <td>00:04</td>\n",
              "    </tr>\n",
              "    <tr>\n",
              "      <td>32</td>\n",
              "      <td>0.000027</td>\n",
              "      <td>0.000027</td>\n",
              "      <td>00:04</td>\n",
              "    </tr>\n",
              "    <tr>\n",
              "      <td>33</td>\n",
              "      <td>0.000026</td>\n",
              "      <td>0.000025</td>\n",
              "      <td>00:04</td>\n",
              "    </tr>\n",
              "    <tr>\n",
              "      <td>34</td>\n",
              "      <td>0.000021</td>\n",
              "      <td>0.000011</td>\n",
              "      <td>00:04</td>\n",
              "    </tr>\n",
              "    <tr>\n",
              "      <td>35</td>\n",
              "      <td>0.000019</td>\n",
              "      <td>0.000018</td>\n",
              "      <td>00:04</td>\n",
              "    </tr>\n",
              "    <tr>\n",
              "      <td>36</td>\n",
              "      <td>0.000021</td>\n",
              "      <td>0.000010</td>\n",
              "      <td>00:04</td>\n",
              "    </tr>\n",
              "    <tr>\n",
              "      <td>37</td>\n",
              "      <td>0.000017</td>\n",
              "      <td>0.000030</td>\n",
              "      <td>00:05</td>\n",
              "    </tr>\n",
              "    <tr>\n",
              "      <td>38</td>\n",
              "      <td>0.000017</td>\n",
              "      <td>0.000008</td>\n",
              "      <td>00:05</td>\n",
              "    </tr>\n",
              "    <tr>\n",
              "      <td>39</td>\n",
              "      <td>0.000015</td>\n",
              "      <td>0.000023</td>\n",
              "      <td>00:04</td>\n",
              "    </tr>\n",
              "    <tr>\n",
              "      <td>40</td>\n",
              "      <td>0.000015</td>\n",
              "      <td>0.000012</td>\n",
              "      <td>00:04</td>\n",
              "    </tr>\n",
              "    <tr>\n",
              "      <td>41</td>\n",
              "      <td>0.000014</td>\n",
              "      <td>0.000015</td>\n",
              "      <td>00:04</td>\n",
              "    </tr>\n",
              "    <tr>\n",
              "      <td>42</td>\n",
              "      <td>0.000013</td>\n",
              "      <td>0.000011</td>\n",
              "      <td>00:04</td>\n",
              "    </tr>\n",
              "    <tr>\n",
              "      <td>43</td>\n",
              "      <td>0.000016</td>\n",
              "      <td>0.000009</td>\n",
              "      <td>00:04</td>\n",
              "    </tr>\n",
              "    <tr>\n",
              "      <td>44</td>\n",
              "      <td>0.000011</td>\n",
              "      <td>0.000007</td>\n",
              "      <td>00:04</td>\n",
              "    </tr>\n",
              "    <tr>\n",
              "      <td>45</td>\n",
              "      <td>0.000011</td>\n",
              "      <td>0.000007</td>\n",
              "      <td>00:04</td>\n",
              "    </tr>\n",
              "    <tr>\n",
              "      <td>46</td>\n",
              "      <td>0.000011</td>\n",
              "      <td>0.000007</td>\n",
              "      <td>00:04</td>\n",
              "    </tr>\n",
              "    <tr>\n",
              "      <td>47</td>\n",
              "      <td>0.000010</td>\n",
              "      <td>0.000007</td>\n",
              "      <td>00:04</td>\n",
              "    </tr>\n",
              "    <tr>\n",
              "      <td>48</td>\n",
              "      <td>0.000011</td>\n",
              "      <td>0.000007</td>\n",
              "      <td>00:04</td>\n",
              "    </tr>\n",
              "    <tr>\n",
              "      <td>49</td>\n",
              "      <td>0.000010</td>\n",
              "      <td>0.000007</td>\n",
              "      <td>00:04</td>\n",
              "    </tr>\n",
              "  </tbody>\n",
              "</table>"
            ]
          },
          "metadata": {}
        }
      ]
    },
    {
      "cell_type": "code",
      "execution_count": 58,
      "metadata": {
        "id": "MTCvllG6I3Yh"
      },
      "outputs": [],
      "source": [
        "PATH = Path('./models/Regression.pkl')\n",
        "PATH.parent.mkdir(parents=True, exist_ok=True)\n",
        "learn.export(PATH)"
      ]
    },
    {
      "cell_type": "code",
      "execution_count": 59,
      "metadata": {
        "id": "-84-xq03I3Yh"
      },
      "outputs": [],
      "source": [
        "del learn"
      ]
    },
    {
      "cell_type": "markdown",
      "metadata": {
        "id": "pCnhlMZWI3Yi"
      },
      "source": [
        "## Inference ⎘"
      ]
    },
    {
      "cell_type": "markdown",
      "metadata": {
        "id": "Za8Wh7ChI3Yj"
      },
      "source": [
        "We'll now upload the saved learner and create the predictions:"
      ]
    },
    {
      "cell_type": "code",
      "execution_count": 60,
      "metadata": {
        "id": "EImRBF30I3Yj"
      },
      "outputs": [],
      "source": [
        "PATH = Path('./models/Regression.pkl')\n",
        "learn = load_learner(PATH, cpu=False)"
      ]
    },
    {
      "cell_type": "code",
      "execution_count": 61,
      "metadata": {
        "colab": {
          "base_uri": "https://localhost:8080/",
          "height": 34
        },
        "id": "6SdnpeyVI3Yk",
        "outputId": "72bbdf32-441e-436f-d352-a35bf39d0d36"
      },
      "outputs": [
        {
          "output_type": "display_data",
          "data": {
            "text/plain": [
              "<IPython.core.display.HTML object>"
            ],
            "text/html": [
              "\n",
              "<style>\n",
              "    /* Turns off some styling */\n",
              "    progress {\n",
              "        /* gets rid of default border in Firefox and Opera. */\n",
              "        border: none;\n",
              "        /* Needs to be in here for Safari polyfill so background images work as expected. */\n",
              "        background-size: auto;\n",
              "    }\n",
              "    .progress-bar-interrupted, .progress-bar-interrupted::-webkit-progress-bar {\n",
              "        background: #F44336;\n",
              "    }\n",
              "</style>\n"
            ]
          },
          "metadata": {}
        },
        {
          "output_type": "display_data",
          "data": {
            "text/plain": [
              "<IPython.core.display.HTML object>"
            ],
            "text/html": [
              ""
            ]
          },
          "metadata": {}
        },
        {
          "output_type": "execute_result",
          "data": {
            "text/plain": [
              "0.002690007545987658"
            ]
          },
          "metadata": {},
          "execution_count": 61
        }
      ],
      "source": [
        "probas, _, preds = learn.get_X_preds(X[splits[1]])\n",
        "skm.mean_squared_error(y[splits[1]], preds, squared=False)"
      ]
    },
    {
      "cell_type": "code",
      "execution_count": 62,
      "metadata": {
        "colab": {
          "base_uri": "https://localhost:8080/"
        },
        "id": "Y4RHiJwXLMWO",
        "outputId": "dce8d8b7-8158-47ad-b7f8-af74bc3bf9ed"
      },
      "outputs": [
        {
          "output_type": "execute_result",
          "data": {
            "text/plain": [
              "0.012084076789480166"
            ]
          },
          "metadata": {},
          "execution_count": 62
        }
      ],
      "source": [
        "\n",
        "skm.mean_squared_error(y[splits[1]], [0] * len(splits[1]), squared=False)"
      ]
    },
    {
      "cell_type": "markdown",
      "metadata": {
        "id": "rWEy5rIlI3Yk"
      },
      "source": [
        "As you can see, this matches the valid rmse at the end of training, so the model is predicting correctly. Now you can pass any data and generate other predictions."
      ]
    },
    {
      "cell_type": "code",
      "execution_count": 63,
      "metadata": {
        "colab": {
          "base_uri": "https://localhost:8080/",
          "height": 17
        },
        "id": "XLPYNiBBLiv1",
        "outputId": "8f212dd1-e6c0-4ddd-eaca-71ccf1113b12"
      },
      "outputs": [
        {
          "output_type": "display_data",
          "data": {
            "text/plain": [
              "<IPython.core.display.HTML object>"
            ],
            "text/html": [
              "\n",
              "<style>\n",
              "    /* Turns off some styling */\n",
              "    progress {\n",
              "        /* gets rid of default border in Firefox and Opera. */\n",
              "        border: none;\n",
              "        /* Needs to be in here for Safari polyfill so background images work as expected. */\n",
              "        background-size: auto;\n",
              "    }\n",
              "    .progress-bar-interrupted, .progress-bar-interrupted::-webkit-progress-bar {\n",
              "        background: #F44336;\n",
              "    }\n",
              "</style>\n"
            ]
          },
          "metadata": {}
        },
        {
          "output_type": "display_data",
          "data": {
            "text/plain": [
              "<IPython.core.display.HTML object>"
            ],
            "text/html": [
              ""
            ]
          },
          "metadata": {}
        }
      ],
      "source": [
        "probas, _, preds = learn.get_X_preds(X_test)\n",
        "pd.DataFrame({'sample_id':y_test_rand.sample_id, 'target':[p[0] for p in preds]}\n",
        "             ).to_csv(data_folder + 'y_test_2.csv', index=False, )"
      ]
    },
    {
      "cell_type": "code",
      "execution_count": null,
      "metadata": {
        "id": "i8btJ1ToG0Rw"
      },
      "outputs": [],
      "source": [
        "pd.DataFrame({'sample_id':y_test_rand.sample_id, 'target':0}\n",
        "             ).to_csv(data_folder + 'y_test_noob.csv', index=False, )"
      ]
    },
    {
      "cell_type": "markdown",
      "metadata": {
        "id": "tNM3qxNmI3Yl"
      },
      "source": [
        "## Summary ✅"
      ]
    },
    {
      "cell_type": "markdown",
      "metadata": {
        "id": "kVcXqoGgI3Ym"
      },
      "source": [
        "As you can see, to use fastai and timeseriesAI to perform a time series regression/ forecasting task is pretty easy. The only thing you need to make sure is that:\n",
        "\n",
        "* Your data is correctly prepared (with ys as floats)\n",
        "* Select the right metrics (Learner will automatically select the right loss, unless you want to pass a specific one yourself)."
      ]
    }
  ],
  "metadata": {
    "accelerator": "GPU",
    "colab": {
      "name": "dl",
      "provenance": []
    },
    "gpuClass": "standard",
    "kernelspec": {
      "display_name": "Python 3 (ipykernel)",
      "language": "python",
      "name": "python3"
    }
  },
  "nbformat": 4,
  "nbformat_minor": 0
}